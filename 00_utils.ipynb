{
 "cells": [
  {
   "cell_type": "raw",
   "metadata": {},
   "source": [
    "---\n",
    "description: API details.\n",
    "output-file: utils.html\n",
    "title: utils\n",
    "\n",
    "---\n",
    "\n"
   ]
  },
  {
   "cell_type": "code",
   "execution_count": null,
   "metadata": {},
   "outputs": [],
   "source": [
    "#| default_exp utils"
   ]
  },
  {
   "cell_type": "code",
   "execution_count": null,
   "metadata": {},
   "outputs": [],
   "source": [
    "#| export\n",
    "\n",
    "import math, tempfile, os, sys, subprocess\n",
    "from bisect import bisect_left\n",
    "from time import strftime\n"
   ]
  },
  {
   "cell_type": "code",
   "execution_count": null,
   "metadata": {},
   "outputs": [],
   "source": [
    "#| exports\n",
    "\n",
    "def temp_dir_creation(output_dir):\n",
    "\t\"\"\"\n",
    "\tTemporaryDirectory creation under output directory\n",
    "\t\"\"\"\n",
    "\ttmp_folder = tempfile.TemporaryDirectory(prefix='tmp_LAFITE',suffix=strftime(\"%Y%m%d%H%M\"),dir=output_dir)\n",
    "\n",
    "\treturn tmp_folder"
   ]
  },
  {
   "cell_type": "code",
   "execution_count": null,
   "metadata": {},
   "outputs": [],
   "source": [
    "#| exports\n",
    "\n",
    "def keep_tmp_file(output, tmp_dir):\n",
    "\t\"\"\"\n",
    "\tsave intermediate files\n",
    "\t\"\"\"\n",
    "\n",
    "\tinter_dir = f'{os.path.splitext(output)[0]}_tmp'\n",
    "\treturn f'''\n",
    "\tmkdir -p {inter_dir} && cp {tmp_dir}/* {inter_dir}\n",
    "\t'''"
   ]
  },
  {
   "cell_type": "code",
   "execution_count": null,
   "metadata": {},
   "outputs": [],
   "source": [
    "#| exports\n",
    "\n",
    "def bam2bed(bam, output_dir, bedtools):\n",
    "\t\"\"\"\n",
    "\treturn a command line that covert the bam file to a bed12 format file\n",
    "\t\"\"\"\n",
    "\tout = os.path.join(output_dir, 'bam.bed')\n",
    "\tbam2bed_cmd = f\"{bedtools} bamtobed -bed12 -cigar -i {bam}|awk '$5>=1' > {out}\"\n",
    "\t\n",
    "\treturn bam2bed_cmd"
   ]
  },
  {
   "cell_type": "code",
   "execution_count": null,
   "metadata": {},
   "outputs": [],
   "source": [
    "#| exports\n",
    "\n",
    "def cmd_execution(command):\n",
    "\t\"\"\"\n",
    "\tshell command execution\n",
    "\t\"\"\"\n",
    "\tp = subprocess.run(command,shell=True)\n",
    "\tif p.returncode == 0:\n",
    "\t\tsys.stdout.write(command +'\\n')\n",
    "\telse:\n",
    "\t\tsys.stdout.write(command +'\\n')"
   ]
  },
  {
   "cell_type": "code",
   "execution_count": null,
   "metadata": {},
   "outputs": [],
   "source": [
    "# | exports\n",
    "\n",
    "def loc_distance(loc_list, loc):\n",
    "    \"\"\"\n",
    "    return the minimum relative distance between the splicing site in reference annotation and the query one\n",
    "    \"\"\"\n",
    "    loc_list = list(loc_list)\n",
    "    if loc_list:\n",
    "        pos = bisect_left(loc_list, loc)\n",
    "        if pos == 0:\n",
    "            loc_dis = abs(loc_list[0]-loc)\n",
    "            ref_loc = loc_list[0]\n",
    "        elif pos == len(loc_list):\n",
    "            loc_dis = abs(loc - loc_list[-1])\n",
    "            ref_loc = loc_list[-1]\n",
    "        elif loc - loc_list[pos-1] >= loc_list[pos] - loc:\n",
    "            loc_dis = loc_list[pos] - loc\n",
    "            ref_loc = loc_list[pos]\n",
    "        else:\n",
    "            loc_dis = loc - loc_list[pos-1]\n",
    "            ref_loc = loc_list[pos-1]\n",
    "    else:\n",
    "        loc_dis = ref_loc = math.inf\n",
    "\n",
    "    return loc_dis, ref_loc"
   ]
  },
  {
   "cell_type": "code",
   "execution_count": null,
   "metadata": {},
   "outputs": [],
   "source": [
    "#| exports\n",
    "\n",
    "class Vividict(dict):\n",
    "\t\"\"\"create nest dictionary\n",
    "\t\"\"\"\n",
    "\tdef __missing__(self, key):\n",
    "\t\tvalue = self[key] = type(self)()\n",
    "\t\treturn value"
   ]
  },
  {
   "cell_type": "code",
   "execution_count": null,
   "metadata": {},
   "outputs": [],
   "source": []
  },
  {
   "cell_type": "code",
   "execution_count": null,
   "metadata": {},
   "outputs": [],
   "source": [
    "from nbdev import nbdev_export\n",
    "nbdev_export()"
   ]
  },
  {
   "cell_type": "code",
   "execution_count": null,
   "metadata": {},
   "outputs": [],
   "source": []
  }
 ],
 "metadata": {
  "kernelspec": {
   "display_name": "python3",
   "language": "python",
   "name": "python3"
  }
 },
 "nbformat": 4,
 "nbformat_minor": 2
}
