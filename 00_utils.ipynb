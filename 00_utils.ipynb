{
 "cells": [
  {
   "cell_type": "raw",
   "metadata": {},
   "source": [
    "---\n",
    "description: API details.\n",
    "output-file: utils.html\n",
    "title: utils\n",
    "\n",
    "---\n",
    "\n"
   ]
  },
  {
   "cell_type": "code",
   "execution_count": null,
   "metadata": {
    "vscode": {
     "languageId": "python"
    }
   },
   "outputs": [],
   "source": [
    "#| default_exp utils"
   ]
  },
  {
   "cell_type": "code",
   "execution_count": null,
   "metadata": {
    "vscode": {
     "languageId": "python"
    }
   },
   "outputs": [],
   "source": [
    "#| export\n",
    "\n",
    "import math, tempfile, os, sys, subprocess\n",
    "from bisect import bisect_left"
   ]
  },
  {
   "cell_type": "code",
   "execution_count": null,
   "metadata": {
    "vscode": {
     "languageId": "python"
    }
   },
   "outputs": [],
   "source": [
    "#| exports\n",
    "\n",
    "def temp_dir_creation(output_dir):\n",
    "\t\"\"\"\n",
    "\tTemporaryDirectory creation under output directory\n",
    "\t\"\"\"\n",
    "\ttmp_folder = tempfile.TemporaryDirectory(dir=output_dir)\n",
    "\tprint(tmp_folder)\n",
    "\treturn tmp_folder"
   ]
  },
  {
   "cell_type": "code",
   "execution_count": null,
   "metadata": {
    "vscode": {
     "languageId": "python"
    }
   },
   "outputs": [],
   "source": [
    "#| exports\n",
    "\n",
    "def keep_tmp_file(output, tmp_dir):\n",
    "\t\"\"\"\n",
    "\tsave intermediate files\n",
    "\t\"\"\"\n",
    "\n",
    "\tinter_dir = f'{os.path.splitext(output)[0]}_tmp'\n",
    "\treturn f'''\n",
    "\tmkdir -p {inter_dir} && cp {tmp_dir}/* {inter_dir}\n",
    "\t'''"
   ]
  },
  {
   "cell_type": "code",
   "execution_count": null,
   "metadata": {
    "vscode": {
     "languageId": "python"
    }
   },
   "outputs": [],
   "source": [
    "#| exports\n",
    "\n",
    "def bam2bed(bam, output_dir, bedtools):\n",
    "\t\"\"\"\n",
    "\treturn a command line that covert the bam file to a bed12 format file\n",
    "\t\"\"\"\n",
    "\tout = os.path.join(output_dir, 'bam.bed')\n",
    "\tbam2bed_cmd = f\"{bedtools} bamtobed -bed12 -cigar -i {bam}|awk '$5>=1' > {out}\"\n",
    "\t\n",
    "\treturn bam2bed_cmd"
   ]
  },
  {
   "cell_type": "code",
   "execution_count": null,
   "metadata": {
    "vscode": {
     "languageId": "python"
    }
   },
   "outputs": [],
   "source": [
    "#| exports\n",
    "\n",
    "def cmd_execution(command):\n",
    "\t\"\"\"\n",
    "\tshell command execution\n",
    "\t\"\"\"\n",
    "\tp = subprocess.run(command,shell=True)\n",
    "\tif p.returncode == 0:\n",
    "\t\tsys.stdout.write(command +'\\n')\n",
    "\telse:\n",
    "\t\tsys.stdout.write(command +'\\n')"
   ]
  },
  {
   "cell_type": "code",
   "execution_count": null,
   "metadata": {
    "vscode": {
     "languageId": "python"
    }
   },
   "outputs": [],
   "source": [
    "#| exports\n",
    "\n",
    "def loc_distance(loc_list, loc):\n",
    "\t\"\"\"\n",
    "\treturn the minimum relative distance between the splicing site in reference annotation and the query one\n",
    "\t\"\"\"\n",
    "\tloc_list = list(loc_list)\n",
    "\tif loc_list:\n",
    "\t\tpos = bisect_left(loc_list, loc)\n",
    "\t\tif pos == 0:\n",
    "\t\t\tloc_dis = abs(loc_list[0]-loc)\n",
    "\t\t\tref_loc = loc_list[0]\n",
    "\t\telif pos == len(loc_list):\n",
    "\t\t\tloc_dis = abs(loc - loc_list[-1])\n",
    "\t\t\tref_loc = loc_list[-1]\n",
    "\t\telif loc - loc_list[pos-1] >= loc_list[pos] - loc:\n",
    "\t\t\tloc_dis = loc_list[pos] - loc\n",
    "\t\t\tref_loc = loc_list[pos]\n",
    "\t\telse:\n",
    "\t\t\tloc_dis = loc - loc_list[pos-1]\n",
    "\t\t\tref_loc = loc_list[pos-1]\n",
    "\telse:\n",
    "\t\tloc_dis = ref_loc = math.inf\n",
    "\t\n",
    "\treturn loc_dis, ref_loc"
   ]
  },
  {
   "cell_type": "code",
   "execution_count": null,
   "metadata": {
    "vscode": {
     "languageId": "python"
    }
   },
   "outputs": [],
   "source": [
    "#| exports\n",
    "\n",
    "class Vividict(dict):\n",
    "\t\"\"\"create nest dictionary\n",
    "\t\"\"\"\n",
    "\tdef __missing__(self, key):\n",
    "\t\tvalue = self[key] = type(self)()\n",
    "\t\treturn value"
   ]
  },
  {
   "cell_type": "code",
   "execution_count": null,
   "metadata": {
    "vscode": {
     "languageId": "python"
    }
   },
   "outputs": [
    {
     "name": "stdout",
     "output_type": "stream",
     "text": [
      "Converted 00_utils.ipynb.\n",
      "Converted 01_reference_processing.ipynb.\n",
      "Converted 02_preprocessing.ipynb.\n",
      "Converted 03_collapsing.ipynb.\n",
      "Converted 04_RTS_identification.ipynb.\n",
      "Converted 05_refine.ipynb.\n",
      "Converted 06_output.ipynb.\n",
      "Converted 10_wrapper.ipynb.\n"
     ]
    }
   ],
   "source": [
    "from nbdev import nbdev_export\n",
    "nbdev_export()"
   ]
  },
  {
   "cell_type": "code",
   "execution_count": null,
   "metadata": {
    "vscode": {
     "languageId": "python"
    }
   },
   "outputs": [],
   "source": []
  }
 ],
 "metadata": {
  "kernelspec": {
   "display_name": "Python 3",
   "language": "python",
   "name": "python3"
  }
 },
 "nbformat": 4,
 "nbformat_minor": 2
}
